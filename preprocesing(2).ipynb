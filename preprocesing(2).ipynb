{
 "cells": [
  {
   "cell_type": "code",
   "execution_count": null,
   "id": "18177bb5",
   "metadata": {},
   "outputs": [],
   "source": [
    "import os\n",
    "import requests\n",
    "from bs4 import BeautifulSoup\n",
    "import re\n"
   ]
  },
  {
   "cell_type": "code",
   "execution_count": 2,
   "id": "5d50ab11",
   "metadata": {},
   "outputs": [],
   "source": [
    "# Baca file teks yang berisi daftar URL\n",
    "with open('links.txt', 'r') as file:\n",
    "    urls = [line.strip() for line in file]"
   ]
  },
  {
   "cell_type": "code",
   "execution_count": 4,
   "id": "dc24fe70",
   "metadata": {},
   "outputs": [],
   "source": [
    "skipped_urls = []\n",
    "for url in urls:\n",
    "    # Kirim permintaan GET\n",
    "    response = requests.get(url)\n",
    "\n",
    "    # Parse konten dengan BeautifulSoup\n",
    "    soup = BeautifulSoup(response.content, 'html.parser')\n",
    "\n",
    "    # Temukan elemen dengan atribut itemprop=\"articleBody\"\n",
    "    article_body = soup.find(class_='main-content-detail')\n",
    "\n",
    "    \n",
    "    # Jika elemen tidak ditemukan, lewati url dan tambahkan ke list\n",
    "    if article_body is None:\n",
    "        skipped_urls.append(url)\n",
    "        continue\n",
    "\n",
    "    # Dapatkan teks dari setiap elemen <p> dan simpan ke dalam list\n",
    "    paragraphs = [p.get_text() for p in article_body.find_all('p')]\n",
    "    \n",
    "    # Gabungkan list menjadi satu string, dengan setiap paragraf dipisahkan oleh baris baru\n",
    "    text = '\\n'.join(paragraphs) \n",
    "    \n",
    "     # Hapus tanda baca dan karakter non-alfabet\n",
    "    text = re.sub(r'[^\\w\\s]', ' ', text)\n",
    "\n",
    "    # Case folding\n",
    "    text = text.lower()\n",
    "    \n",
    "    # Ekstrak judul halaman sebagai nama file (Anda mungkin perlu menyesuaikan ini tergantung pada struktur halaman web)\n",
    "    title = soup.title.string\n",
    "\n",
    "    # Buat versi singkat dari judul untuk digunakan sebagai nama file\n",
    "    short_title = title[:50]  # Ambil 50 karakter pertama dari judul\n",
    "\n",
    "    # Ganti karakter yang tidak valid dalam nama file\n",
    "    filename = \"\".join(c for c in short_title if c.isalnum() or c.isspace()).rstrip() + \".txt\"\n",
    "\n",
    "    # Tentukan direktori tempat Anda ingin menyimpan file\n",
    "    directory = \"D:/kuliah/Semester 5/Penelusuran Informasi/coba/input_folder/\"\n",
    "\n",
    "    # Gabungkan direktori dan nama file untuk mendapatkan path lengkap ke file\n",
    "    file_path = os.path.join(directory, filename)\n",
    "\n",
    "    # Simpan teks ke file .txt\n",
    "    with open(file_path, 'w') as f:\n",
    "        f.write(text)\n",
    "\n",
    "\n",
    "\n"
   ]
  }
 ],
 "metadata": {
  "kernelspec": {
   "display_name": "Python 3 (ipykernel)",
   "language": "python",
   "name": "python3"
  },
  "language_info": {
   "codemirror_mode": {
    "name": "ipython",
    "version": 3
   },
   "file_extension": ".py",
   "mimetype": "text/x-python",
   "name": "python",
   "nbconvert_exporter": "python",
   "pygments_lexer": "ipython3",
   "version": "3.11.4"
  }
 },
 "nbformat": 4,
 "nbformat_minor": 5
}
